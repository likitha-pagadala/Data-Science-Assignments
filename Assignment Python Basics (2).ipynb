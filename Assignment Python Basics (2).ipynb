{
 "cells": [
  {
   "cell_type": "code",
   "execution_count": 4,
   "id": "b86a2cee-aecc-4599-a542-15c3b54b29ac",
   "metadata": {},
   "outputs": [
    {
     "name": "stdin",
     "output_type": "stream",
     "text": [
      "Enter a number: 23\n"
     ]
    },
    {
     "name": "stdout",
     "output_type": "stream",
     "text": [
      "23 is prime number\n"
     ]
    }
   ],
   "source": [
    "#Basic Python\n",
    "#Write a Python program that checks whether a given number is prime or not.\n",
    "\n",
    "def is_prime(n):\n",
    "    if n<=1:\n",
    "        return false\n",
    "    for i in range(2, int(n**0.5)+1):\n",
    "        if n % i==0:\n",
    "            return False\n",
    "    return True\n",
    "num =int(input(\"Enter a number:\"))\n",
    "if is_prime(num):\n",
    "    print(f\"{num} is prime number\")\n",
    "else:\n",
    "    print(f\"{num} is not a prime number\")\n",
    "    "
   ]
  },
  {
   "cell_type": "code",
   "execution_count": 11,
   "id": "7981d32e-7ba7-4eb1-9069-8db8022f9a23",
   "metadata": {},
   "outputs": [
    {
     "name": "stdout",
     "output_type": "stream",
     "text": [
      "what is product 8 and 1\n"
     ]
    },
    {
     "name": "stdin",
     "output_type": "stream",
     "text": [
      "your answer: 8\n"
     ]
    },
    {
     "name": "stdout",
     "output_type": "stream",
     "text": [
      "correct\n"
     ]
    }
   ],
   "source": [
    "# Python program that generates two random numbers and asks the user to enter the product of these numbers. \n",
    "\n",
    "import random\n",
    "a=random.randint(1,10)\n",
    "b=random.randint(1,10)\n",
    "print(f\"what is product {a} and {b}\")\n",
    "user_ans=int(input(\"your answer:\"))\n",
    "if user_ans == a*b:\n",
    "    print(\"correct\")\n",
    "else:\n",
    "    print(\"Wrong.The correct answer is {a * b}.\")\n",
    "             \n",
    "             "
   ]
  },
  {
   "cell_type": "code",
   "execution_count": 17,
   "id": "41c18cb1-ff20-449c-b37b-249d3b6f53d9",
   "metadata": {},
   "outputs": [
    {
     "name": "stdout",
     "output_type": "stream",
     "text": [
      "100^2=10000\n",
      "102^2=10404\n",
      "104^2=10816\n",
      "106^2=11236\n",
      "108^2=11664\n",
      "110^2=12100\n",
      "112^2=12544\n",
      "114^2=12996\n",
      "116^2=13456\n",
      "118^2=13924\n",
      "120^2=14400\n",
      "122^2=14884\n",
      "124^2=15376\n",
      "126^2=15876\n",
      "128^2=16384\n",
      "130^2=16900\n",
      "132^2=17424\n",
      "134^2=17956\n",
      "136^2=18496\n",
      "138^2=19044\n",
      "140^2=19600\n",
      "142^2=20164\n",
      "144^2=20736\n",
      "146^2=21316\n",
      "148^2=21904\n",
      "150^2=22500\n",
      "152^2=23104\n",
      "154^2=23716\n",
      "156^2=24336\n",
      "158^2=24964\n",
      "160^2=25600\n",
      "162^2=26244\n",
      "164^2=26896\n",
      "166^2=27556\n",
      "168^2=28224\n",
      "170^2=28900\n",
      "172^2=29584\n",
      "174^2=30276\n",
      "176^2=30976\n",
      "178^2=31684\n",
      "180^2=32400\n",
      "182^2=33124\n",
      "184^2=33856\n",
      "186^2=34596\n",
      "188^2=35344\n",
      "190^2=36100\n",
      "192^2=36864\n",
      "194^2=37636\n",
      "196^2=38416\n",
      "198^2=39204\n",
      "200^2=40000\n"
     ]
    }
   ],
   "source": [
    "#Create a Python script that prints the squares of all even or odd numbers within the range of 100 to 200. \n",
    "\n",
    "for i in range(100,201):\n",
    "    if i % 2 == 0:\n",
    "        print(f\"{i}^2={i**2}\")"
   ]
  },
  {
   "cell_type": "code",
   "execution_count": 18,
   "id": "b6cf6d4d-cf64-4b7b-bdde-e3554cc1af7e",
   "metadata": {},
   "outputs": [
    {
     "name": "stdout",
     "output_type": "stream",
     "text": [
      "'This': 2\n",
      "'is': 1\n",
      "'a': 1\n",
      "'sample': 1\n",
      "'text.': 1\n",
      "'text': 1\n",
      "'will': 1\n",
      "'be': 1\n",
      "'used': 1\n",
      "'to': 1\n",
      "'demonstrate': 1\n",
      "'the': 1\n",
      "'word': 1\n",
      "'counter.': 1\n"
     ]
    }
   ],
   "source": [
    "#write a program to count the number of words in a given text\n",
    "\n",
    "input_text = \"This is a sample text. This text will be used to demonstrate the word counter.\"\n",
    "words = input_text.split()\n",
    "word_count = {}\n",
    "for word in words:\n",
    "    if word in word_count:\n",
    "        word_count[word] += 1  # Increase count if word already exists\n",
    "    else:\n",
    "        word_count[word] = 1   # Add new word with count 1\n",
    "for word, count in word_count.items():\n",
    "    print(f\"'{word}': {count}\")\n"
   ]
  },
  {
   "cell_type": "code",
   "execution_count": 1,
   "id": "aa7d0aad-dcf6-4f3e-8d5d-2edc368df09d",
   "metadata": {},
   "outputs": [
    {
     "name": "stdout",
     "output_type": "stream",
     "text": [
      "True\n"
     ]
    }
   ],
   "source": [
    "#Write a Python function called is_palindrome that takes a string as input and returns True if the string is a palindrome, and False otherwise\n",
    "#Example:\n",
    "#Input: \"racecar\"\n",
    "#Expected Output: True\n",
    "\n",
    "def is_palindrome(n):\n",
    "    nums=[]\n",
    "    for i in n:\n",
    "        if i.isalnum():\n",
    "            nums.append(i.lower())\n",
    "        return nums==nums[::-1]\n",
    "print(is_palindrome(\"racecar\"))\n",
    "        "
   ]
  },
  {
   "cell_type": "code",
   "execution_count": null,
   "id": "7a4a7a87-4ec6-426b-8ab0-63efd7a8d69e",
   "metadata": {},
   "outputs": [],
   "source": []
  }
 ],
 "metadata": {
  "kernelspec": {
   "display_name": "Python [conda env:base] *",
   "language": "python",
   "name": "conda-base-py"
  },
  "language_info": {
   "codemirror_mode": {
    "name": "ipython",
    "version": 3
   },
   "file_extension": ".py",
   "mimetype": "text/x-python",
   "name": "python",
   "nbconvert_exporter": "python",
   "pygments_lexer": "ipython3",
   "version": "3.12.7"
  }
 },
 "nbformat": 4,
 "nbformat_minor": 5
}
